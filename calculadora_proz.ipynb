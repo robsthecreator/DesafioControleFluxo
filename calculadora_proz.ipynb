{
  "nbformat": 4,
  "nbformat_minor": 0,
  "metadata": {
    "colab": {
      "provenance": [],
      "authorship_tag": "ABX9TyMhuYCQ+YYj6wOMKAkIqAnh",
      "include_colab_link": true
    },
    "kernelspec": {
      "name": "python3",
      "display_name": "Python 3"
    },
    "language_info": {
      "name": "python"
    }
  },
  "cells": [
    {
      "cell_type": "markdown",
      "metadata": {
        "id": "view-in-github",
        "colab_type": "text"
      },
      "source": [
        "<a href=\"https://colab.research.google.com/github/robsthecreator/DesafioControleFluxo/blob/main/calculadora_proz.ipynb\" target=\"_parent\"><img src=\"https://colab.research.google.com/assets/colab-badge.svg\" alt=\"Open In Colab\"/></a>"
      ]
    },
    {
      "cell_type": "code",
      "execution_count": 25,
      "metadata": {
        "colab": {
          "base_uri": "https://localhost:8080/"
        },
        "id": "VIS6aOOsFktn",
        "outputId": "cf5fa3c7-2682-46e4-ec38-fbbaea1adcf1"
      },
      "outputs": [
        {
          "output_type": "stream",
          "name": "stdout",
          "text": [
            "Olá, qual operação deseja fazer?\n",
            "1 = soma\n",
            "2 = subtração\n",
            "3 = multiplicação\n",
            "4 = divisão\n",
            "Escolha uma opção: 0\n",
            "Digite o primeiro número: 3\n",
            "Digite o segundo número: 4\n",
            "Opção inválida. Escolha uma opção válida.\n"
          ]
        }
      ],
      "source": [
        "def soma(num1, num2):\n",
        "    return num1 + num2\n",
        "\n",
        "def subtracao(num1, num2):\n",
        "    return num1 - num2\n",
        "\n",
        "def multiplicacao(num1, num2):\n",
        "    return num1 * num2\n",
        "\n",
        "def divisao(num1, num2):\n",
        "    if num2 == 0:\n",
        "        return \"Erro: divisão por zero não é permitida.\"\n",
        "    return num1 / num2\n",
        "\n",
        "def calculadora():\n",
        "    selecao = input(\"Olá, qual operação deseja fazer?\\n\"\n",
        "                    \"1 = soma\\n\"\n",
        "                    \"2 = subtração\\n\"\n",
        "                    \"3 = multiplicação\\n\"\n",
        "                    \"4 = divisão\\n\"\n",
        "                    \"Escolha uma opção: \")\n",
        "\n",
        "    num1 = int(input(\"Digite o primeiro número: \"))\n",
        "    num2 = int(input(\"Digite o segundo número: \"))\n",
        "\n",
        "    if selecao == \"1\":\n",
        "        resultado = soma(num1, num2)\n",
        "        print(f\"O resultado da soma é: {resultado}\")\n",
        "    elif selecao == \"2\":\n",
        "        resultado = subtracao(num1, num2)\n",
        "        print(f\"O resultado da subtração é: {resultado}\")\n",
        "    elif selecao == \"3\":\n",
        "        resultado = multiplicacao(num1, num2)\n",
        "        print(f\"O resultado da multiplicação é: {resultado}\")\n",
        "    elif selecao == \"4\":\n",
        "        resultado = divisao(num1, num2)\n",
        "        print(f\"O resultado da divisão é: {resultado}\")\n",
        "    else:\n",
        "        print(\"Opção inválida. Escolha uma opção válida.\")\n",
        "\n",
        "calculadora()"
      ]
    }
  ]
}